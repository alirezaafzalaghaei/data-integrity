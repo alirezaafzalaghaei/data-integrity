{
 "cells": [
  {
   "cell_type": "markdown",
   "metadata": {},
   "source": [
    "# Data Integrity"
   ]
  },
  {
   "cell_type": "markdown",
   "metadata": {},
   "source": [
    "whats data integrity?\n",
    "..."
   ]
  },
  {
   "cell_type": "markdown",
   "metadata": {},
   "source": [
    "## 1) Entity Identification Problem"
   ]
  },
  {
   "cell_type": "markdown",
   "metadata": {},
   "source": [
    "<div style='text-align:justify'>Entity identification is the problem of matching object instances from different databases which correspond to the same real-world entity.\n",
    "In recent years, we have observed an increasing amount of information being stored and managed by a wide variety of database management systems. Often within an organization, information is scattered among a number of databases which have been designed independently, perhaps at different times, for differing application needs. Due to an increasing need for new applications that access data from multiple independent databases, the resolution of incompatibilities between these databases has posed a challenge to the database research community. For example, it is common for loan agencies to integrate information about potential customers from sources such as bank portfolio, credit history, mortgage records, etc. in order to make the right loan decisions. The decision support system that assists loan officers must not only access the heterogeneous databases, but also resolve the incompatibilities between the information stored in them.[1]</div>"
   ]
  },
  {
   "cell_type": "markdown",
   "metadata": {},
   "source": [
    "## 2) Redundancy and Correlation Analysis"
   ]
  },
  {
   "cell_type": "markdown",
   "metadata": {},
   "source": [
    "Redundancy is another important issue in data integration. An attribute (such as annual\n",
    "revenue, for instance) may be redundant if it can be “derived” from another attribute"
   ]
  },
  {
   "cell_type": "raw",
   "metadata": {},
   "source": [
    "exmaple:\n",
    "    student_id enterance_year\n",
    "     97422013        97\n",
    "     97422014        97\n",
    "     95422011        95"
   ]
  },
  {
   "cell_type": "markdown",
   "metadata": {},
   "source": [
    "Inconsistencies ..."
   ]
  },
  {
   "cell_type": "raw",
   "metadata": {},
   "source": [
    "example:\n",
    "    student_id   std_id     name\n",
    "     97422013   97422013     Ali\n",
    "     97422014   97422014     Asghar"
   ]
  },
  {
   "cell_type": "markdown",
   "metadata": {},
   "source": [
    "### 2.1) χ2 Correlation Test for Nominal Data"
   ]
  },
  {
   "cell_type": "markdown",
   "metadata": {},
   "source": [
    "As you know we have several data types for data. Nominal is one of them. To calculate correlation between to nomianl data we use chi-square correlation test."
   ]
  },
  {
   "cell_type": "raw",
   "metadata": {},
   "source": [
    "more desc, formula, mathematics"
   ]
  },
  {
   "cell_type": "raw",
   "metadata": {},
   "source": [
    "python example:"
   ]
  },
  {
   "cell_type": "code",
   "execution_count": 7,
   "metadata": {},
   "outputs": [],
   "source": [
    "#from ... import .."
   ]
  },
  {
   "cell_type": "markdown",
   "metadata": {},
   "source": [
    "### 2.2) Correlation Coefficient for Numeric Data"
   ]
  },
  {
   "cell_type": "raw",
   "metadata": {},
   "source": [
    "desc, formula, mathemathics"
   ]
  },
  {
   "cell_type": "raw",
   "metadata": {},
   "source": [
    "python example:"
   ]
  },
  {
   "cell_type": "code",
   "execution_count": 8,
   "metadata": {},
   "outputs": [],
   "source": [
    "# from ... import .."
   ]
  },
  {
   "cell_type": "markdown",
   "metadata": {},
   "source": [
    "### 2.3) Covariance of Numeric Data"
   ]
  },
  {
   "cell_type": "raw",
   "metadata": {},
   "source": [
    "desc, formula, mathemathics"
   ]
  },
  {
   "cell_type": "raw",
   "metadata": {},
   "source": [
    "python example:"
   ]
  },
  {
   "cell_type": "code",
   "execution_count": 9,
   "metadata": {},
   "outputs": [],
   "source": [
    "# from ... import .."
   ]
  },
  {
   "cell_type": "markdown",
   "metadata": {},
   "source": [
    "## 3) Tuple Duplication"
   ]
  },
  {
   "cell_type": "markdown",
   "metadata": {},
   "source": [
    "## 4) Data Value Conflict Detection "
   ]
  },
  {
   "cell_type": "markdown",
   "metadata": {},
   "source": [
    "# references"
   ]
  },
  {
   "cell_type": "markdown",
   "metadata": {},
   "source": [
    "[1] Ee-Peng Lim , Jaideep Srivastava, Entity Identification in Database Integration: An Evidential Reasoning Approach"
   ]
  }
 ],
 "metadata": {
  "kernelspec": {
   "display_name": "Python 3",
   "language": "python",
   "name": "python3"
  },
  "language_info": {
   "codemirror_mode": {
    "name": "ipython",
    "version": 3
   },
   "file_extension": ".py",
   "mimetype": "text/x-python",
   "name": "python",
   "nbconvert_exporter": "python",
   "pygments_lexer": "ipython3",
   "version": "3.6.6"
  },
  "toc": {
   "base_numbering": 1,
   "nav_menu": {},
   "number_sections": true,
   "sideBar": true,
   "skip_h1_title": false,
   "title_cell": "Table of Contents",
   "title_sidebar": "Contents",
   "toc_cell": false,
   "toc_position": {},
   "toc_section_display": true,
   "toc_window_display": false
  }
 },
 "nbformat": 4,
 "nbformat_minor": 2
}
